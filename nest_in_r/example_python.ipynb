{
 "cells": [
  {
   "attachments": {},
   "cell_type": "markdown",
   "metadata": {},
   "source": [
    "#### Step 1: Prepare the data"
   ]
  },
  {
   "attachments": {},
   "cell_type": "markdown",
   "metadata": {},
   "source": [
    "import necessary libraries for loading the data:\n",
    "\n",
    "nibabel for reading and writing neuroimaging data.\n",
    "numpy for numerical operations and array handling."
   ]
  },
  {
   "cell_type": "code",
   "execution_count": 1,
   "metadata": {},
   "outputs": [],
   "source": [
    "import nibabel as nb\n",
    "import numpy as np"
   ]
  },
  {
   "attachments": {},
   "cell_type": "markdown",
   "metadata": {},
   "source": [
    "This cell loads and preprocesses the brain imaging data and phenotype (demographic) information:\n",
    "\n",
    "- Brain imaging data (cifti_data) is loaded from a .nii file.\n",
    "- Network labels (network_label) are loaded and filtered to remove unspecified indices (-1).\n",
    "- Binary vectors (net_6, net_7) are created for two specific networks, indicating vertex membership.\n",
    "- Phenotype data (age, sex) is loaded and combined into a single array (phenotype)."
   ]
  },
  {
   "cell_type": "code",
   "execution_count": 2,
   "metadata": {},
   "outputs": [
    {
     "name": "stderr",
     "output_type": "stream",
     "text": [
      "pixdim[1,2,3] should be non-zero; setting 0 dims to 1\n"
     ]
    }
   ],
   "source": [
    "# load brain imaging data\n",
    "cifti_data = nb.load('./Dataset/HCP_WB_Tutorial_1.0/Q1-Q6_R440.All.sulc.32k_fs_LR.dscalar.nii').get_fdata(dtype=np.float32) # (replace with code to load your data)\n",
    "network_labels = np.load('./Dataset/network_label_yeo7.npz')['arr_0'] # (replace with code to load your network labels)\n",
    "\n",
    "idx = network_labels!=-1  # identify which locations should be ignored (e.g., medial wall)\n",
    "network_label = network_labels[idx]  # remove labels outside idx\n",
    "X = cifti_data[:,idx] # subset image (X) locations to idx\n",
    "\n",
    "# generate binary vector for each network, 0-> specific vertex does not belong to the network, 1-> specific vertex belongs to the network.\n",
    "net_7 = np.where(network_label!=7,0,1)  # create a binary vector with 1's at locations corresponding to network 7 and 0's at locations outside network 7\n",
    "\n",
    "# Phenotype of interest (y) and covariates (Z)\n",
    "y = np.load('./Dataset/R440_age.npz')['arr_0'] # replace with code to load your phenotype (e.g., age)\n",
    "Z = np.load('./Dataset/R440_gender.npz')['arr_0'] # replace with code to load other covariates/confounders (e.g., sex)"
   ]
  },
  {
   "attachments": {},
   "cell_type": "markdown",
   "metadata": {},
   "source": [
    "Print the shapes of the processed data arrays to verify their dimensions, ensuring they are correct for subsequent analysis. In this example, the sample size is 440 and number of vertices is 58606."
   ]
  },
  {
   "cell_type": "code",
   "execution_count": 3,
   "metadata": {},
   "outputs": [
    {
     "data": {
      "text/plain": [
       "((440, 58606), (440,), (440,), (58606,))"
      ]
     },
     "execution_count": 3,
     "metadata": {},
     "output_type": "execute_result"
    }
   ],
   "source": [
    "X.shape, y.shape, Z.shape, net_7.shape"
   ]
  },
  {
   "attachments": {},
   "cell_type": "markdown",
   "metadata": {},
   "source": [
    "#### Step 2: Import the NEST package after the installation.\n",
    "\n",
    "The package can be installed via 'pip install nest-sw'"
   ]
  },
  {
   "cell_type": "code",
   "execution_count": 4,
   "metadata": {},
   "outputs": [],
   "source": [
    "from NEST import nest"
   ]
  },
  {
   "attachments": {},
   "cell_type": "markdown",
   "metadata": {},
   "source": [
    "#### Step 3: Define the following dictionary of arguments passed to the nest method. The args can be defined as follows, assuming vertex-wise linear models will be fit to estimate local brain-phenotype associations (i.e., specifying statFun='lm' in step 4.).\n",
    "\n",
    "- X: N x P matrix (numpy array) of P imaging features (e.g., vertices) for N participants.\n",
    "\n",
    "- y: N-dimensional vector of phenotype of interest (i.e., testing enrichment of X-y associations).\n",
    "\n",
    "- Z: Optional. Specify one or more covariates (matrix with N rows and q columns for q covariates). Default is NULL (no covariates to be included).\n",
    "\n",
    "- FL: Optional (default is False). Set to True to use Freedman-Lane procedure to account for dependence between covariates in permutation.\n",
    "\n",
    "- n_perm: Optional (default is 999, with smallest possible p-value of 1/1000)."
   ]
  },
  {
   "cell_type": "code",
   "execution_count": 5,
   "metadata": {},
   "outputs": [],
   "source": [
    "args = {\n",
    "    'X': X, # brain measurements (dimension N subjects x P image locations).\n",
    "    'y': y, # phenotype of interest (dimension N).\n",
    "    'Z': Z, # covariates (dimension (N x # number of covariates).\n",
    "    'type': 'coef', # what type of test statistic to extract from linear regression model.\n",
    "    'FL': False, # Not use Freedman-Lane procedure.\n",
    "    'n_perm': 999 # how many permutations to use to obtain null distribution.\n",
    "}"
   ]
  },
  {
   "attachments": {},
   "cell_type": "markdown",
   "metadata": {},
   "source": [
    "##### Step 4: Apply NEST to test enrichment of brain-phenotype associations in specified network."
   ]
  },
  {
   "cell_type": "code",
   "execution_count": 6,
   "metadata": {},
   "outputs": [
    {
     "name": "stdout",
     "output_type": "stream",
     "text": [
      "Using the following default settings: \n",
      "\n",
      "\n",
      "args['getNull'] = True ---> defaulting to get a null distribution\n",
      "\n"
     ]
    }
   ],
   "source": [
    "pval,ES_obs,ES_null,_ = nest(statFun='lm', # use linear regression to get vertex-level test statistics\n",
    "                             args=args, # arguments specified above (specific to statFun=\"lm\")\n",
    "                             net_maps=net_7, # list of binary indicating locations inside (1) or outside (1) network(s) of interest.\n",
    "                             one_sided=True, # Determines whether the enrichment score calculation should consider only the positive alignment (True) or both directions (False).\n",
    "                             seed=None, # Random seed for reproducible permutation. Default is None. \n",
    "                             )"
   ]
  },
  {
   "attachments": {},
   "cell_type": "markdown",
   "metadata": {},
   "source": [
    "Print the p-value and observed enrichment score"
   ]
  },
  {
   "cell_type": "code",
   "execution_count": 8,
   "metadata": {},
   "outputs": [
    {
     "data": {
      "text/plain": [
       "0.076"
      ]
     },
     "execution_count": 8,
     "metadata": {},
     "output_type": "execute_result"
    }
   ],
   "source": [
    "pval"
   ]
  },
  {
   "attachments": {},
   "cell_type": "markdown",
   "metadata": {},
   "source": [
    "Print the enrichment scores for null distribution"
   ]
  },
  {
   "attachments": {},
   "cell_type": "markdown",
   "metadata": {},
   "source": [
    "NEST also supports the use of customized statistical functions for calculating associations. \n",
    "This advanced feature allows for more tailored analysis that fits specific research questions or datasets. \n",
    "To utilize a custom statistical function, specify the argument `statFun = 'your_custom_function'` \n",
    "alongside the corresponding arguments required by your function. "
   ]
  },
  {
   "cell_type": "code",
   "execution_count": null,
   "metadata": {},
   "outputs": [],
   "source": [
    "pval,ES_obs,ES_null,_ = nest(statFun='custom_fun',args=custom_args,net_maps=net_7)"
   ]
  }
 ],
 "metadata": {
  "kernelspec": {
   "display_name": "Python 3",
   "language": "python",
   "name": "python3"
  },
  "language_info": {
   "codemirror_mode": {
    "name": "ipython",
    "version": 3
   },
   "file_extension": ".py",
   "mimetype": "text/x-python",
   "name": "python",
   "nbconvert_exporter": "python",
   "pygments_lexer": "ipython3",
   "version": "3.11.9"
  },
  "orig_nbformat": 4
 },
 "nbformat": 4,
 "nbformat_minor": 2
}
